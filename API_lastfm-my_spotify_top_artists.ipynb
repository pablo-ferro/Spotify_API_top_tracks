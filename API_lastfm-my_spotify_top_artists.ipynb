{
 "cells": [
  {
   "cell_type": "code",
   "execution_count": 1,
   "metadata": {
    "scrolled": true
   },
   "outputs": [],
   "source": [
    "# conda install requests"
   ]
  },
  {
   "cell_type": "code",
   "execution_count": 2,
   "metadata": {},
   "outputs": [],
   "source": [
    "import requests\n",
    "import json\n",
    "import time\n",
    "import pandas as pd"
   ]
  },
  {
   "cell_type": "code",
   "execution_count": 1,
   "metadata": {},
   "outputs": [],
   "source": [
    "API_KEY = 'KEY_SECRET'\n",
    "USER_AGENT = 'USER_NAME'"
   ]
  },
  {
   "cell_type": "code",
   "execution_count": 4,
   "metadata": {},
   "outputs": [],
   "source": [
    "# how long to pause between consecutive API requests\n",
    "pause_duration = 0.3"
   ]
  },
  {
   "cell_type": "code",
   "execution_count": 5,
   "metadata": {},
   "outputs": [],
   "source": [
    "import requests\n",
    "\n",
    "url = 'http://ws.audioscrobbler.com/2.0/?method=user.get{}&user={}&api_key={}&format=json'\n",
    "\n",
    "limit = 200 #api lets you retrieve up to 200 records per call\n",
    "extended = 0 #api lets you retrieve extended data for each track, 0=no, 1=yes\n",
    "page = 1 #page of results to start retrieving at\n"
   ]
  },
  {
   "cell_type": "code",
   "execution_count": 6,
   "metadata": {},
   "outputs": [
    {
     "data": {
      "text/html": [
       "<div>\n",
       "<style scoped>\n",
       "    .dataframe tbody tr th:only-of-type {\n",
       "        vertical-align: middle;\n",
       "    }\n",
       "\n",
       "    .dataframe tbody tr th {\n",
       "        vertical-align: top;\n",
       "    }\n",
       "\n",
       "    .dataframe thead th {\n",
       "        text-align: right;\n",
       "    }\n",
       "</style>\n",
       "<table border=\"1\" class=\"dataframe\">\n",
       "  <thead>\n",
       "    <tr style=\"text-align: right;\">\n",
       "      <th></th>\n",
       "      <th>artist</th>\n",
       "      <th>track</th>\n",
       "      <th>play_count</th>\n",
       "    </tr>\n",
       "  </thead>\n",
       "  <tbody>\n",
       "    <tr>\n",
       "      <th>0</th>\n",
       "      <td>La Maravillosa Orquesta del Alcohol</td>\n",
       "      <td>La vuelta</td>\n",
       "      <td>12</td>\n",
       "    </tr>\n",
       "    <tr>\n",
       "      <th>1</th>\n",
       "      <td>Jarabe de Palo</td>\n",
       "      <td>Tú Mandas</td>\n",
       "      <td>7</td>\n",
       "    </tr>\n",
       "    <tr>\n",
       "      <th>2</th>\n",
       "      <td>Harry Styles</td>\n",
       "      <td>To Be So Lonely</td>\n",
       "      <td>6</td>\n",
       "    </tr>\n",
       "    <tr>\n",
       "      <th>3</th>\n",
       "      <td>Harry Styles</td>\n",
       "      <td>Watermelon Sugar</td>\n",
       "      <td>6</td>\n",
       "    </tr>\n",
       "    <tr>\n",
       "      <th>4</th>\n",
       "      <td>Harry Styles</td>\n",
       "      <td>Golden</td>\n",
       "      <td>5</td>\n",
       "    </tr>\n",
       "    <tr>\n",
       "      <th>5</th>\n",
       "      <td>Harry Styles</td>\n",
       "      <td>Treat People with Kindness</td>\n",
       "      <td>5</td>\n",
       "    </tr>\n",
       "    <tr>\n",
       "      <th>6</th>\n",
       "      <td>La Maravillosa Orquesta del Alcohol</td>\n",
       "      <td>Conduciendo y Llorando</td>\n",
       "      <td>3</td>\n",
       "    </tr>\n",
       "    <tr>\n",
       "      <th>7</th>\n",
       "      <td>Adele</td>\n",
       "      <td>Someone Like You</td>\n",
       "      <td>2</td>\n",
       "    </tr>\n",
       "    <tr>\n",
       "      <th>8</th>\n",
       "      <td>Harry Styles</td>\n",
       "      <td>She</td>\n",
       "      <td>2</td>\n",
       "    </tr>\n",
       "    <tr>\n",
       "      <th>9</th>\n",
       "      <td>John Legend</td>\n",
       "      <td>God Only Knows (feat. yMusic)</td>\n",
       "      <td>2</td>\n",
       "    </tr>\n",
       "  </tbody>\n",
       "</table>\n",
       "</div>"
      ],
      "text/plain": [
       "                                artist                          track  \\\n",
       "0  La Maravillosa Orquesta del Alcohol                      La vuelta   \n",
       "1                       Jarabe de Palo                      Tú Mandas   \n",
       "2                         Harry Styles                To Be So Lonely   \n",
       "3                         Harry Styles               Watermelon Sugar   \n",
       "4                         Harry Styles                         Golden   \n",
       "5                         Harry Styles     Treat People with Kindness   \n",
       "6  La Maravillosa Orquesta del Alcohol         Conduciendo y Llorando   \n",
       "7                                Adele               Someone Like You   \n",
       "8                         Harry Styles                            She   \n",
       "9                          John Legend  God Only Knows (feat. yMusic)   \n",
       "\n",
       "  play_count  \n",
       "0         12  \n",
       "1          7  \n",
       "2          6  \n",
       "3          6  \n",
       "4          5  \n",
       "5          5  \n",
       "6          3  \n",
       "7          2  \n",
       "8          2  \n",
       "9          2  "
      ]
     },
     "execution_count": 6,
     "metadata": {},
     "output_type": "execute_result"
    }
   ],
   "source": [
    "method = 'toptracks'\n",
    "request_url = url.format(method, USER_AGENT, API_KEY, limit, extended, page)\n",
    "artist_names = []\n",
    "track_names = []\n",
    "play_counts = []\n",
    "response = requests.get(request_url).json()\n",
    "for item in response[method]['track']:\n",
    "    artist_names.append(item['artist']['name'])\n",
    "    track_names.append(item['name'])\n",
    "    play_counts.append(item['playcount'])\n",
    "\n",
    "top_tracks = pd.DataFrame()\n",
    "top_tracks['artist'] = artist_names\n",
    "top_tracks['track'] = track_names\n",
    "top_tracks['play_count'] = play_counts\n",
    "top_tracks.to_csv('lastfm_top_tracks.csv', index=None, encoding='utf-8')\n",
    "top_tracks.head(10)"
   ]
  },
  {
   "cell_type": "code",
   "execution_count": 7,
   "metadata": {},
   "outputs": [
    {
     "data": {
      "text/plain": [
       "{'page': '1',\n",
       " 'perPage': '50',\n",
       " 'user': 'pabloferro',\n",
       " 'total': '42',\n",
       " 'totalPages': '1'}"
      ]
     },
     "execution_count": 7,
     "metadata": {},
     "output_type": "execute_result"
    }
   ],
   "source": [
    "response['toptracks']['@attr']"
   ]
  },
  {
   "cell_type": "code",
   "execution_count": 8,
   "metadata": {},
   "outputs": [
    {
     "data": {
      "text/plain": [
       "['La vuelta',\n",
       " 'Tú Mandas',\n",
       " 'To Be So Lonely',\n",
       " 'Watermelon Sugar',\n",
       " 'Golden',\n",
       " 'Treat People with Kindness',\n",
       " 'Conduciendo y Llorando',\n",
       " 'Someone Like You',\n",
       " 'She',\n",
       " 'God Only Knows (feat. yMusic)',\n",
       " 'Where is my mind',\n",
       " 'Leyenda',\n",
       " 'Purple Rain',\n",
       " 'Set Fire to the Rain',\n",
       " 'How Many Fucks?',\n",
       " 'Límite',\n",
       " 'El Conticinio',\n",
       " 'Falling',\n",
       " 'Fine Line',\n",
       " 'From the Dining Table',\n",
       " 'Kiwi',\n",
       " 'Sweet Creature',\n",
       " '¡Yep!',\n",
       " 'Déjame Vivir - Versión 50 Palos',\n",
       " 'Grita',\n",
       " 'Grita - Versión Filarmónica',\n",
       " 'Hombrecitos',\n",
       " 'Hoy No Soy Yo',\n",
       " 'La Vida Es el Momento',\n",
       " 'Me Flechaste Ingrata',\n",
       " 'Misteriosamente Hoy',\n",
       " 'Que Bueno - Versión 50 Palos',\n",
       " 'Qué Bueno, Qué Bueno (feat. Jorge Drexler)',\n",
       " 'Tragas o Escupes',\n",
       " 'Darkest Hour',\n",
       " '93compases',\n",
       " 'Héroes del Sábado',\n",
       " 'Shallow',\n",
       " 'Remember Me (Dúo)',\n",
       " 'Volver - Bonus Track',\n",
       " 'Raspberry Beret',\n",
       " 'Trampoline (with ZAYN)']"
      ]
     },
     "execution_count": 8,
     "metadata": {},
     "output_type": "execute_result"
    }
   ],
   "source": [
    "tracks_n=[]\n",
    "for item in response[method]['track']:\n",
    "    tracks_n.append(item['name'])\n",
    "    \n",
    "tracks_n"
   ]
  },
  {
   "cell_type": "code",
   "execution_count": 9,
   "metadata": {},
   "outputs": [
    {
     "data": {
      "text/html": [
       "<div>\n",
       "<style scoped>\n",
       "    .dataframe tbody tr th:only-of-type {\n",
       "        vertical-align: middle;\n",
       "    }\n",
       "\n",
       "    .dataframe tbody tr th {\n",
       "        vertical-align: top;\n",
       "    }\n",
       "\n",
       "    .dataframe thead th {\n",
       "        text-align: right;\n",
       "    }\n",
       "</style>\n",
       "<table border=\"1\" class=\"dataframe\">\n",
       "  <thead>\n",
       "    <tr style=\"text-align: right;\">\n",
       "      <th></th>\n",
       "      <th>artist</th>\n",
       "      <th>play_count</th>\n",
       "    </tr>\n",
       "  </thead>\n",
       "  <tbody>\n",
       "    <tr>\n",
       "      <th>0</th>\n",
       "      <td>Harry Styles</td>\n",
       "      <td>26</td>\n",
       "    </tr>\n",
       "    <tr>\n",
       "      <th>1</th>\n",
       "      <td>Jarabe de Palo</td>\n",
       "      <td>19</td>\n",
       "    </tr>\n",
       "    <tr>\n",
       "      <th>2</th>\n",
       "      <td>La Maravillosa Orquesta del Alcohol</td>\n",
       "      <td>17</td>\n",
       "    </tr>\n",
       "    <tr>\n",
       "      <th>3</th>\n",
       "      <td>Adele</td>\n",
       "      <td>3</td>\n",
       "    </tr>\n",
       "    <tr>\n",
       "      <th>4</th>\n",
       "      <td>Prince</td>\n",
       "      <td>3</td>\n",
       "    </tr>\n",
       "    <tr>\n",
       "      <th>5</th>\n",
       "      <td>John Legend</td>\n",
       "      <td>2</td>\n",
       "    </tr>\n",
       "    <tr>\n",
       "      <th>6</th>\n",
       "      <td>Maxence Cyrin</td>\n",
       "      <td>2</td>\n",
       "    </tr>\n",
       "    <tr>\n",
       "      <th>7</th>\n",
       "      <td>NACH</td>\n",
       "      <td>2</td>\n",
       "    </tr>\n",
       "    <tr>\n",
       "      <th>8</th>\n",
       "      <td>Erika Jayne</td>\n",
       "      <td>1</td>\n",
       "    </tr>\n",
       "    <tr>\n",
       "      <th>9</th>\n",
       "      <td>Feten Feten</td>\n",
       "      <td>1</td>\n",
       "    </tr>\n",
       "  </tbody>\n",
       "</table>\n",
       "</div>"
      ],
      "text/plain": [
       "                                artist play_count\n",
       "0                         Harry Styles         26\n",
       "1                       Jarabe de Palo         19\n",
       "2  La Maravillosa Orquesta del Alcohol         17\n",
       "3                                Adele          3\n",
       "4                               Prince          3\n",
       "5                          John Legend          2\n",
       "6                        Maxence Cyrin          2\n",
       "7                                 NACH          2\n",
       "8                          Erika Jayne          1\n",
       "9                          Feten Feten          1"
      ]
     },
     "execution_count": 9,
     "metadata": {},
     "output_type": "execute_result"
    }
   ],
   "source": [
    "method = 'topartists'\n",
    "request_url = url.format(method, USER_AGENT, API_KEY, limit, extended, page)\n",
    "artist_names = []\n",
    "play_counts = []\n",
    "response = requests.get(request_url).json()\n",
    "for item in response[method]['artist']:\n",
    "    artist_names.append(item['name'])\n",
    "    play_counts.append(item['playcount'])\n",
    "\n",
    "top_art = pd.DataFrame()\n",
    "top_art['artist'] = artist_names\n",
    "top_art['play_count'] = play_counts\n",
    "top_art.to_csv('lastfm_top_artists.csv', index=None, encoding='utf-8')\n",
    "top_art.head(10)"
   ]
  },
  {
   "cell_type": "code",
   "execution_count": 10,
   "metadata": {},
   "outputs": [
    {
     "data": {
      "text/html": [
       "<div>\n",
       "<style scoped>\n",
       "    .dataframe tbody tr th:only-of-type {\n",
       "        vertical-align: middle;\n",
       "    }\n",
       "\n",
       "    .dataframe tbody tr th {\n",
       "        vertical-align: top;\n",
       "    }\n",
       "\n",
       "    .dataframe thead th {\n",
       "        text-align: right;\n",
       "    }\n",
       "</style>\n",
       "<table border=\"1\" class=\"dataframe\">\n",
       "  <thead>\n",
       "    <tr style=\"text-align: right;\">\n",
       "      <th></th>\n",
       "      <th>tag</th>\n",
       "      <th>play_count</th>\n",
       "    </tr>\n",
       "  </thead>\n",
       "  <tbody>\n",
       "  </tbody>\n",
       "</table>\n",
       "</div>"
      ],
      "text/plain": [
       "Empty DataFrame\n",
       "Columns: [tag, play_count]\n",
       "Index: []"
      ]
     },
     "execution_count": 10,
     "metadata": {},
     "output_type": "execute_result"
    }
   ],
   "source": [
    "method = 'toptags'\n",
    "request_url = url.format(method, USER_AGENT, API_KEY, limit, extended, page)\n",
    "tags=[]\n",
    "play_count=[]\n",
    "response = requests.get(request_url).json()\n",
    "\n",
    "for item in response[method]['tag']:\n",
    "    tags.append(item['tags'])\n",
    "    play_count.append(item['playcount'])\n",
    "\n",
    "top_tags = pd.DataFrame()\n",
    "top_tags['tag'] = tags\n",
    "top_tags['play_count'] = play_count\n",
    "top_tags.to_csv('lastfm_top_tags.csv', index=None, encoding='utf-8')\n",
    "top_tags.head(10)"
   ]
  },
  {
   "cell_type": "code",
   "execution_count": 11,
   "metadata": {},
   "outputs": [],
   "source": [
    "import matplotlib.pyplot as plt"
   ]
  },
  {
   "cell_type": "code",
   "execution_count": 18,
   "metadata": {},
   "outputs": [
    {
     "data": {
      "image/png": "[encoded data removed]",
      "text/plain": [
       "<Figure size 1656x432 with 1 Axes>"
      ]
     },
     "metadata": {
      "needs_background": "light"
     },
     "output_type": "display_data"
    }
   ],
   "source": [
    "plt.figure(figsize=(23,6))\n",
    "plt.plot(top_art.play_count,top_art.artist,'o')\n",
    "plt.xlabel('Times played')\n",
    "plt.ylabel('Artist')\n",
    "plt.title('My top artists played')\n",
    "plt.savefig('top_artists_chart_12dic.png')\n",
    "plt.show()"
   ]
  },
  {
   "cell_type": "code",
   "execution_count": 19,
   "metadata": {},
   "outputs": [
    {
     "data": {
      "image/png": "[encoded data removed]",
      "text/plain": [
       "<Figure size 576x576 with 1 Axes>"
      ]
     },
     "metadata": {},
     "output_type": "display_data"
    }
   ],
   "source": [
    "top_art10=top_art.head(10)\n",
    "plt.figure(figsize=(8,8))\n",
    "plt.pie(top_art10.play_count,labels=top_art10.artist)\n",
    "plt.savefig('piechart.png')"
   ]
  },
  {
   "cell_type": "code",
   "execution_count": null,
   "metadata": {},
   "outputs": [],
   "source": []
  },
  {
   "cell_type": "code",
   "execution_count": null,
   "metadata": {},
   "outputs": [],
   "source": []
  }
 ],
 "metadata": {
  "kernelspec": {
   "display_name": "Python 3",
   "language": "python",
   "name": "python3"
  },
  "language_info": {
   "codemirror_mode": {
    "name": "ipython",
    "version": 3
   },
   "file_extension": ".py",
   "mimetype": "text/x-python",
   "name": "python",
   "nbconvert_exporter": "python",
   "pygments_lexer": "ipython3",
   "version": "3.7.4"
  }
 },
 "nbformat": 4,
 "nbformat_minor": 4
}
